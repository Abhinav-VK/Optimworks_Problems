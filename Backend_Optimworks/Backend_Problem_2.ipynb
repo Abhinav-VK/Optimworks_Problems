{
 "cells": [
  {
   "cell_type": "code",
   "execution_count": 24,
   "id": "452e1317-6497-415a-9f9c-ebb85b730dd3",
   "metadata": {},
   "outputs": [
    {
     "name": "stdout",
     "output_type": "stream",
     "text": [
      "Output-1: [(7, 10.5)]\n",
      "Output-2: No matching restaurant found\n",
      "Output-3: [(6, 7.5), (10, 7.5)]\n"
     ]
    }
   ],
   "source": [
    "import pandas as pd\n",
    "\n",
    "def find_minimum_price(file_path, food_items):\n",
    "    try:\n",
    "        # Load the CSV file into a DataFrame\n",
    "        df = pd.read_csv(file_path)\n",
    "        \n",
    "        # Split the input food items into a list\n",
    "        food_items_list = food_items.split()\n",
    "        \n",
    "        # Initialize a list to store valid restaurants and their total prices\n",
    "        valid_restaurants = []\n",
    "\n",
    "        # Group by restaurant_id to aggregate food items\n",
    "        grouped = df.groupby('restaurant_id')\n",
    "\n",
    "        for restaurant_id, group in grouped:\n",
    "            # Check if all food items are available in the current restaurant\n",
    "            if all(item in group['food_item_name'].values for item in food_items_list):\n",
    "                # Calculate the total price for the specified food items\n",
    "                total_price = group[group['food_item_name'].isin(food_items_list)]['price'].sum()\n",
    "                valid_restaurants.append((restaurant_id, total_price))\n",
    "\n",
    "        # If valid restaurants were found, find the minimum price\n",
    "        if valid_restaurants:\n",
    "            min_price = min(price for _, price in valid_restaurants)\n",
    "            min_restaurants = [(restaurant_id, price) for restaurant_id, price in valid_restaurants if price == min_price]\n",
    "            return min_restaurants\n",
    "        else:\n",
    "            return \"No matching restaurant found\"\n",
    "    except FileNotFoundError:\n",
    "        return \"The specified file was not found.\"\n",
    "    except Exception as e:\n",
    "        return f\"An error occurred: {e}\"\n",
    "\n",
    "# Example usage\n",
    "file_path = \"question_two_data.csv\"\n",
    "food_items_input_1 = \"burger tofu_log\"\n",
    "food_items_input_2 = \"chef_salad wine_spritzer\"\n",
    "food_items_input_3 = \"extra_salsa extreme_fajita\"\n",
    "\n",
    "# Get results for the first input\n",
    "result_1 = find_minimum_price(file_path, food_items_input_1)\n",
    "print(\"Output-1:\", result_1)\n",
    "\n",
    "# Get results for the second input\n",
    "result_2 = find_minimum_price(file_path, food_items_input_2)\n",
    "print(\"Output-2:\", result_2)\n",
    "\n",
    "# Get results for the third input\n",
    "result_3 = find_minimum_price(file_path, food_items_input_3)\n",
    "print(\"Output-3:\", result_3)\n"
   ]
  }
 ],
 "metadata": {
  "kernelspec": {
   "display_name": "Python 3 (ipykernel)",
   "language": "python",
   "name": "python3"
  },
  "language_info": {
   "codemirror_mode": {
    "name": "ipython",
    "version": 3
   },
   "file_extension": ".py",
   "mimetype": "text/x-python",
   "name": "python",
   "nbconvert_exporter": "python",
   "pygments_lexer": "ipython3",
   "version": "3.11.7"
  }
 },
 "nbformat": 4,
 "nbformat_minor": 5
}
